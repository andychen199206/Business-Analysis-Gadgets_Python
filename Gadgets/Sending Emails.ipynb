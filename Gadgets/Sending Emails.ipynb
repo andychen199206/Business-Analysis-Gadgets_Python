{
 "cells": [
  {
   "cell_type": "code",
   "execution_count": null,
   "metadata": {},
   "outputs": [],
   "source": [
    "##Import Libraries\n",
    "import smtplib\n",
    "from email import encoders\n",
    "from email.mime.text import MIMEText\n",
    "from email.mime.base import MIMEBase\n",
    "from email.mime.multipart import MIMEMultipart\n",
    "\n",
    "# Sender & Recipients\n",
    "SENDER = \"some_dl@expedia.com\"\n",
    "RECIPIENTS = \"another_dl@expedia.com\"\n",
    "\n",
    "# Construct the email\n",
    "msg = MIMEMultipart('mixed')\n",
    "msg['Subject'] = \"Subject line here\"\n",
    "msg['From'] = SENDER\n",
    "msg['To'] = RECIPIENTS\n",
    "body_string = \"Body text here\"\n",
    "text_part = MIMEText(body_string)\n",
    "msg.attach(text_part)\n",
    "\n",
    "# Attach a CSV to email\n",
    "buf = some_pandas_dataframe.to_csv(index=False)\n",
    "record = MIMEBase('application', 'octet-stream')\n",
    "record.set_payload(buf)\n",
    "encoders.encode_base64(record)\n",
    "record.add_header('Content-Disposition', 'attachment', filename=\"details.csv\")\n",
    "msg.attach(record)\n",
    "\n",
    "# Send the email\n",
    "s = smtplib.SMTP(HOST, port=25)\n",
    "s.sendmail(SENDER, RECIPIENTS, msg.as_string())"
   ]
  }
 ],
 "metadata": {
  "kernelspec": {
   "display_name": "Python 3",
   "language": "python",
   "name": "python3"
  },
  "language_info": {
   "codemirror_mode": {
    "name": "ipython",
    "version": 3
   },
   "file_extension": ".py",
   "mimetype": "text/x-python",
   "name": "python",
   "nbconvert_exporter": "python",
   "pygments_lexer": "ipython3",
   "version": "3.7.1"
  }
 },
 "nbformat": 4,
 "nbformat_minor": 2
}
