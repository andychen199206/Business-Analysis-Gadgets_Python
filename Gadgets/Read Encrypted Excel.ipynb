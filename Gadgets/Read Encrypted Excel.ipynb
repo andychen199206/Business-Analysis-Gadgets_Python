{
 "cells": [
  {
   "cell_type": "code",
   "execution_count": 18,
   "metadata": {},
   "outputs": [
    {
     "name": "stdout",
     "output_type": "stream",
     "text": [
      "   a  b  c  d\n",
      "0  1  2  3  4\n"
     ]
    }
   ],
   "source": [
    "#import libraries\n",
    "import pandas as pd\n",
    "import os\n",
    "import win32com.client\n",
    "import csv\n",
    "from tempfile import NamedTemporaryFile\n",
    "#Define ReadEncryptedExcel Function:\n",
    "def ReadEncryptedExcel(path,psw):\n",
    "    xlapp=win32com.client.Dispatch(\"Excel.Application\") \n",
    "    xlwb=xlapp.Workbooks.Open(path,False, True, None,psw)\n",
    "    #TempF\n",
    "    TempF = NamedTemporaryFile(delete=False, suffix='.csv')\n",
    "    TempF.close()\n",
    "    os.unlink(TempF.name)  \n",
    "    #Choose your own sheets\n",
    "    xlwb.Sheets(1).SaveAs(Filename=TempF.name, FileFormat = 0x17, Password = None) \n",
    "    xlwb.Close()\n",
    "    xlapp.Quit()\n",
    "    df=pd.read_csv(TempF.name)\n",
    "    os.remove(TempF.name)\n",
    "    return df\n",
    "#Set up your own path and password\n",
    "path=r'yourpath' #Choose your own path\n",
    "psw=r'yourpassword' #Choose your own password\n",
    "df1=ReadEncryptedExcel(path,psw)\n",
    "print(df1)"
   ]
  },
  {
   "cell_type": "code",
   "execution_count": null,
   "metadata": {},
   "outputs": [],
   "source": []
  }
 ],
 "metadata": {
  "kernelspec": {
   "display_name": "Python 3",
   "language": "python",
   "name": "python3"
  },
  "language_info": {
   "codemirror_mode": {
    "name": "ipython",
    "version": 3
   },
   "file_extension": ".py",
   "mimetype": "text/x-python",
   "name": "python",
   "nbconvert_exporter": "python",
   "pygments_lexer": "ipython3",
   "version": "3.7.1"
  }
 },
 "nbformat": 4,
 "nbformat_minor": 2
}
