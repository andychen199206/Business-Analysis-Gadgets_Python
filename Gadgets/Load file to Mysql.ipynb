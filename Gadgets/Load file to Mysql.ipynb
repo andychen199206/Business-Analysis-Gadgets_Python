{
 "cells": [
  {
   "cell_type": "code",
   "execution_count": null,
   "metadata": {},
   "outputs": [],
   "source": [
    "#import libraries\n",
    "import pandas as pd\n",
    "import pymysql\n",
    "from sqlalchemy import create_engine\n",
    "from datetime import datetime,date\n",
    "\n",
    "#Create the engine\n",
    "host='yourhost'\n",
    "user='user'\n",
    "pwd='pwd'\n",
    "db='yourdb'\n",
    "port=3306\n",
    "engine = create_engine('mysql+pymysql://' + user + ':' + pwd + '@' + host + ':' + str(port) + '/' + db)\n",
    "\n",
    "path='yourexcel.xlsx'\n",
    "df=pd.read_excel(path,keep_default_na=False)\n",
    "df.to_sql('tablename',con=engine,index=False)"
   ]
  }
 ],
 "metadata": {
  "kernelspec": {
   "display_name": "Python 3",
   "language": "python",
   "name": "python3"
  },
  "language_info": {
   "codemirror_mode": {
    "name": "ipython",
    "version": 3
   },
   "file_extension": ".py",
   "mimetype": "text/x-python",
   "name": "python",
   "nbconvert_exporter": "python",
   "pygments_lexer": "ipython3",
   "version": "3.7.3"
  }
 },
 "nbformat": 4,
 "nbformat_minor": 2
}
