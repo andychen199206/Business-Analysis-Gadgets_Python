{
 "cells": [
  {
   "cell_type": "markdown",
   "metadata": {},
   "source": [
    "                                       Embed DataFrame table in an email"
   ]
  },
  {
   "cell_type": "markdown",
   "metadata": {},
   "source": [
    "                                                Author: Andy Chen"
   ]
  },
  {
   "cell_type": "code",
   "execution_count": null,
   "metadata": {},
   "outputs": [],
   "source": [
    "#import libararies\n",
    "import pandas as pd\n",
    "from tabulate import tabulate\n",
    "import datetime\n",
    "import smtplib\n",
    "from email import encoders\n",
    "from email.mime.text import MIMEText\n",
    "from email.mime.base import MIMEBase\n",
    "from email.mime.multipart import MIMEMultipart\n",
    "\n",
    "#Step1: Construct your DataFrame\n",
    "df = pd.DataFrame(data, columns =['-','-']) #Rename columns if you want\n",
    "df.index=df.index+1 #Start row index from 1 instead of 0\n",
    "\n",
    "#step2: Construct your email body text by define txt&html\n",
    "txt = \"\"\"\n",
    "    Hello Team,\n",
    "\n",
    "    The records below were detected as status change:\n",
    "\n",
    "    {table}\n",
    "\n",
    "    Regards,\n",
    "\n",
    "    Andy Chen\n",
    "    \"\"\"\n",
    "html = \"\"\"\n",
    "    <html>\n",
    "    <head> \n",
    "    <style> \n",
    "     table, th, td {{ border: 1px solid black; border-collapse: collapse; }}\n",
    "      th, td {{ padding: 5px; }}\n",
    "    </style>\n",
    "    </head>\n",
    "    <body><p>Hello Team,</p>\n",
    "    <p>The records below were detected as status change:</p>\n",
    "    {table}\n",
    "    <p>Regards,</p>\n",
    "    <p>Andy Chen</p>\n",
    "    </body></html>\n",
    "    \"\"\"\n",
    "#If you take out \"<head>...</head>\" then, the table in the email has no border\n",
    "\n",
    "txt = txt.format(table=tabulate(df, headers=df.columns, tablefmt=\"grid\"))\n",
    "html = html.format(table=tabulate(df, headers=df.columns, tablefmt=\"html\"))\n",
    "msg = MIMEMultipart(\"alternative\", None, [MIMEText(txt), MIMEText(html,'html')])\n",
    "\n",
    "#Step3: Complete the email structure\n",
    "subject=\"Status Change Detected \"+str(datetime.datetime.now())\n",
    "SENDER = \"andy@google.com\"\n",
    "RECIPIENTS=['andychen@google.com']\n",
    "\n",
    "msg['Subject'] = subject\n",
    "msg['From'] = SENDER\n",
    "msg['To'] = \", \".join(RECIPIENTS)\n",
    "s = smtplib.SMTP('host', port=25)\n",
    "\n",
    "#Send out the email and close\n",
    "s.sendmail(SENDER,RECIPIENTS, msg.as_string())\n",
    "s.close()\n",
    "\n",
    "print('emails sent out '+str(datetime.datetime.now()))"
   ]
  },
  {
   "cell_type": "code",
   "execution_count": null,
   "metadata": {},
   "outputs": [],
   "source": []
  }
 ],
 "metadata": {
  "kernelspec": {
   "display_name": "Python 3",
   "language": "python",
   "name": "python3"
  },
  "language_info": {
   "codemirror_mode": {
    "name": "ipython",
    "version": 3
   },
   "file_extension": ".py",
   "mimetype": "text/x-python",
   "name": "python",
   "nbconvert_exporter": "python",
   "pygments_lexer": "ipython3",
   "version": "3.7.1"
  }
 },
 "nbformat": 4,
 "nbformat_minor": 2
}
