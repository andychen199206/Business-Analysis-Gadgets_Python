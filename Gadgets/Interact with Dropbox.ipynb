{
 "cells": [
  {
   "cell_type": "code",
   "execution_count": 3,
   "metadata": {},
   "outputs": [],
   "source": [
    "#Import Libraries\n",
    "import dropbox\n",
    "from contextlib import closing \n",
    "import io\n",
    "import pandas as pd\n",
    "\n",
    "# Pickup file from Dropbox\n",
    "dbx = dropbox.Dropbox(\"your token\")\n",
    "path = str(dbx.files_list_folder(path=\"your folder name in dropbox\").entries[0].path_display)\n",
    "\n",
    "\n",
    "# def stream_dropbox_file\n",
    "def stream_dropbox_file(path):\n",
    "    _,res=dbx.files_download(path)\n",
    "    with closing(res) as result:\n",
    "        byte_data=result.content\n",
    "        return io.BytesIO(byte_data)\n",
    "    \n",
    "file_stream=stream_dropbox_file(path)\n",
    "df=pd.read_excel(file_stream,keep_default_na=False)\n",
    "print(df)"
   ]
  },
  {
   "cell_type": "code",
   "execution_count": null,
   "metadata": {},
   "outputs": [],
   "source": []
  }
 ],
 "metadata": {
  "kernelspec": {
   "display_name": "Python 3",
   "language": "python",
   "name": "python3"
  },
  "language_info": {
   "codemirror_mode": {
    "name": "ipython",
    "version": 3
   },
   "file_extension": ".py",
   "mimetype": "text/x-python",
   "name": "python",
   "nbconvert_exporter": "python",
   "pygments_lexer": "ipython3",
   "version": "3.7.3"
  }
 },
 "nbformat": 4,
 "nbformat_minor": 2
}
