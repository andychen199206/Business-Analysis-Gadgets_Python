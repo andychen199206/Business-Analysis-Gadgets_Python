{
 "cells": [
  {
   "cell_type": "code",
   "execution_count": null,
   "metadata": {},
   "outputs": [],
   "source": [
    "##Import Libraries\n",
    "from fuzzywuzzy import fuzz\n",
    "\n",
    "##Build out Standard List\n",
    "SL=['PRG','AFT','MEL','ANE','LVL','CustOps','EDS','Paulo']\n",
    "\n",
    "def fm(x,SL):\n",
    "    scores={}\n",
    "    for i in SL:\n",
    "        scores.update({i:fuzz.token_set_ratio(x,i)+fuzz.partial_ratio(x,i)+fuzz.ratio(x,i)})\n",
    "        score_max = max(scores.keys(), key=(lambda k: scores[k]))\n",
    "    return score_max\n",
    "\n",
    "##Test\n",
    "fm('cust',SL)"
   ]
  }
 ],
 "metadata": {
  "kernelspec": {
   "display_name": "Python 3",
   "language": "python",
   "name": "python3"
  },
  "language_info": {
   "codemirror_mode": {
    "name": "ipython",
    "version": 3
   },
   "file_extension": ".py",
   "mimetype": "text/x-python",
   "name": "python",
   "nbconvert_exporter": "python",
   "pygments_lexer": "ipython3",
   "version": "3.7.1"
  }
 },
 "nbformat": 4,
 "nbformat_minor": 2
}
